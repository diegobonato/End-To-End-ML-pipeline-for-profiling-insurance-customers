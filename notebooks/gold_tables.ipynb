{
 "cells": [
  {
   "cell_type": "markdown",
   "id": "161a7b8d",
   "metadata": {},
   "source": [
    "# GOLD Tables"
   ]
  },
  {
   "cell_type": "markdown",
   "id": "0a13d319",
   "metadata": {},
   "source": [
    "In this notebook we will explore the possible analytics that can be extracted from the silver layer."
   ]
  },
  {
   "cell_type": "markdown",
   "id": "7edce3f8",
   "metadata": {},
   "source": [
    "## 1. Claims Analysis\n",
    " Calculate total and average claim amounts and claim counts grouped by region, car use, age group, and credit score band."
   ]
  },
  {
   "cell_type": "code",
   "execution_count": 1,
   "id": "e7f0358c",
   "metadata": {},
   "outputs": [],
   "source": [
    "from policyML.bronze.bronze import get_db_connection\n",
    "import pandas as pd"
   ]
  },
  {
   "cell_type": "code",
   "execution_count": 14,
   "id": "fd71686c",
   "metadata": {},
   "outputs": [
    {
     "name": "stderr",
     "output_type": "stream",
     "text": [
      "/var/folders/lx/thnwywfs79x9xsl2bq8yrjy00000gn/T/ipykernel_3017/3495310533.py:6: UserWarning: pandas only supports SQLAlchemy connectable (engine/connection) or database string URI or sqlite3 DBAPI2 connection. Other DBAPI2 objects are not tested. Please consider using SQLAlchemy.\n",
      "  df = pd.read_sql(query, conn)\n"
     ]
    },
    {
     "name": "stdout",
     "output_type": "stream",
     "text": [
      "<class 'pandas.core.frame.DataFrame'>\n",
      "RangeIndex: 25000 entries, 0 to 24999\n",
      "Data columns (total 47 columns):\n",
      " #   Column                   Non-Null Count  Dtype         \n",
      "---  ------                   --------------  -----         \n",
      " 0   id                       25000 non-null  int64         \n",
      " 1   insurance_coverage_days  25000 non-null  int64         \n",
      " 2   insured_age              25000 non-null  int64         \n",
      " 3   insured_sex              25000 non-null  int64         \n",
      " 4   insured_status           25000 non-null  int64         \n",
      " 5   insured_noclaimyears     25000 non-null  int64         \n",
      " 6   insured_creditscore      25000 non-null  int64         \n",
      " 7   insured_regionid         25000 non-null  int64         \n",
      " 8   insured_drivearea        25000 non-null  int64         \n",
      " 9   car_use                  25000 non-null  int64         \n",
      " 10  car_age                  25000 non-null  int64         \n",
      " 11  annualdrive_km           25000 non-null  int64         \n",
      " 12  drive_avgdays_week       25000 non-null  int64         \n",
      " 13  drive_timeonroad_pct     25000 non-null  float64       \n",
      " 14  drive_mon_pct            25000 non-null  float64       \n",
      " 15  drive_tue_pct            25000 non-null  float64       \n",
      " 16  drive_wed_pct            25000 non-null  float64       \n",
      " 17  drive_thr_pct            25000 non-null  float64       \n",
      " 18  drive_fri_pct            25000 non-null  float64       \n",
      " 19  drive_sat_pct            25000 non-null  float64       \n",
      " 20  drive_sun_pct            25000 non-null  float64       \n",
      " 21  drive_2hrs_pct           25000 non-null  float64       \n",
      " 22  drive_3hrs_pct           25000 non-null  float64       \n",
      " 23  drive_4hrs_pct           25000 non-null  float64       \n",
      " 24  drive_wkday_pct          25000 non-null  float64       \n",
      " 25  drive_wkend_pct          25000 non-null  float64       \n",
      " 26  drive_rusham_pct         25000 non-null  float64       \n",
      " 27  drive_rushpm_pct         25000 non-null  float64       \n",
      " 28  accel_03ms2_1000km       25000 non-null  int64         \n",
      " 29  accel_04ms2_1000km       25000 non-null  int64         \n",
      " 30  accel_05ms2_1000km       25000 non-null  int64         \n",
      " 31  accel_06ms2_1000km       25000 non-null  int64         \n",
      " 32  accel_07ms2_1000km       25000 non-null  int64         \n",
      " 33  brake_03ms2_1000km       25000 non-null  int64         \n",
      " 34  brake_04ms2_1000km       25000 non-null  int64         \n",
      " 35  brake_05ms2_1000km       25000 non-null  int64         \n",
      " 36  brake_06ms2_1000km       25000 non-null  int64         \n",
      " 37  brake_07ms2_1000km       25000 non-null  int64         \n",
      " 38  leftturn_low_1000km      25000 non-null  int64         \n",
      " 39  leftturn_med_1000km      25000 non-null  int64         \n",
      " 40  leftturn_high_1000km     25000 non-null  int64         \n",
      " 41  rightturn_low_1000km     25000 non-null  int64         \n",
      " 42  rightturn_med_1000km     25000 non-null  int64         \n",
      " 43  rightturn_high_1000km    25000 non-null  int64         \n",
      " 44  amt_claim                25000 non-null  float64       \n",
      " 45  nb_claim                 25000 non-null  int64         \n",
      " 46  dwh_create_data          25000 non-null  datetime64[ns]\n",
      "dtypes: datetime64[ns](1), float64(16), int64(30)\n",
      "memory usage: 9.0 MB\n"
     ]
    }
   ],
   "source": [
    "conn = get_db_connection()\n",
    "schema = 'silver'\n",
    "table_name = 'insurance'\n",
    "\n",
    "query = f'SELECT * FROM \"{schema}\".\"{table_name}\";'\n",
    "df = pd.read_sql(query, conn)\n",
    "conn.close()\n",
    "\n",
    "df.info()"
   ]
  },
  {
   "cell_type": "markdown",
   "id": "b8c987b4",
   "metadata": {},
   "source": [
    "### Claim by Region"
   ]
  },
  {
   "cell_type": "code",
   "execution_count": null,
   "id": "6f7e4f09",
   "metadata": {},
   "outputs": [
    {
     "data": {
      "text/html": [
       "<div>\n",
       "<style scoped>\n",
       "    .dataframe tbody tr th:only-of-type {\n",
       "        vertical-align: middle;\n",
       "    }\n",
       "\n",
       "    .dataframe tbody tr th {\n",
       "        vertical-align: top;\n",
       "    }\n",
       "\n",
       "    .dataframe thead th {\n",
       "        text-align: right;\n",
       "    }\n",
       "</style>\n",
       "<table border=\"1\" class=\"dataframe\">\n",
       "  <thead>\n",
       "    <tr style=\"text-align: right;\">\n",
       "      <th></th>\n",
       "      <th>total_claim_amount</th>\n",
       "      <th>avg_claim_amount</th>\n",
       "      <th>total_claims</th>\n",
       "      <th>avg_claims</th>\n",
       "      <th>policy_count</th>\n",
       "    </tr>\n",
       "    <tr>\n",
       "      <th>insured_regionid</th>\n",
       "      <th></th>\n",
       "      <th></th>\n",
       "      <th></th>\n",
       "      <th></th>\n",
       "      <th></th>\n",
       "    </tr>\n",
       "  </thead>\n",
       "  <tbody>\n",
       "    <tr>\n",
       "      <th>43</th>\n",
       "      <td>178306.16</td>\n",
       "      <td>175.844339</td>\n",
       "      <td>39</td>\n",
       "      <td>0.038462</td>\n",
       "      <td>1014</td>\n",
       "    </tr>\n",
       "    <tr>\n",
       "      <th>39</th>\n",
       "      <td>93102.19</td>\n",
       "      <td>105.200215</td>\n",
       "      <td>37</td>\n",
       "      <td>0.041808</td>\n",
       "      <td>885</td>\n",
       "    </tr>\n",
       "    <tr>\n",
       "      <th>35</th>\n",
       "      <td>140020.27</td>\n",
       "      <td>184.479934</td>\n",
       "      <td>37</td>\n",
       "      <td>0.048748</td>\n",
       "      <td>759</td>\n",
       "    </tr>\n",
       "    <tr>\n",
       "      <th>30</th>\n",
       "      <td>165284.13</td>\n",
       "      <td>231.166615</td>\n",
       "      <td>35</td>\n",
       "      <td>0.048951</td>\n",
       "      <td>715</td>\n",
       "    </tr>\n",
       "    <tr>\n",
       "      <th>32</th>\n",
       "      <td>134453.68</td>\n",
       "      <td>231.020069</td>\n",
       "      <td>31</td>\n",
       "      <td>0.053265</td>\n",
       "      <td>582</td>\n",
       "    </tr>\n",
       "  </tbody>\n",
       "</table>\n",
       "</div>"
      ],
      "text/plain": [
       "                  total_claim_amount  avg_claim_amount  total_claims  \\\n",
       "insured_regionid                                                       \n",
       "43                         178306.16        175.844339            39   \n",
       "39                          93102.19        105.200215            37   \n",
       "35                         140020.27        184.479934            37   \n",
       "30                         165284.13        231.166615            35   \n",
       "32                         134453.68        231.020069            31   \n",
       "\n",
       "                  avg_claims  policy_count  \n",
       "insured_regionid                            \n",
       "43                  0.038462          1014  \n",
       "39                  0.041808           885  \n",
       "35                  0.048748           759  \n",
       "30                  0.048951           715  \n",
       "32                  0.053265           582  "
      ]
     },
     "execution_count": 15,
     "metadata": {},
     "output_type": "execute_result"
    }
   ],
   "source": [
    "bins_age = [0,25,35,45,55,65,120]\n",
    "labels_age = ['<25','25-34','35-44','45-54','55-64','65+']\n",
    "\n",
    "df['agegroup'] = pd.cut(df['insured_age'], bins=bins_age, labels=labels_age, right=False)\n",
    "\n",
    "bins_credit = [0,600,700,800,900,1000]\n",
    "labels_credit = ['<600','600-699','700-799','800-899','>=900']\n",
    "\n",
    "df['creditscoreband'] = pd.cut(df['insured_creditscore'], bins=bins_credit, labels=labels_credit, right=False)\n",
    "\n",
    "# Total and average claim amounts and counts by region\n",
    "claims_by_region = df.groupby('insured_regionid').agg(\n",
    "    total_claim_amount=('amt_claim','sum'),\n",
    "    avg_claim_amount=('amt_claim','mean'),\n",
    "    total_claims=('nb_claim','sum'),\n",
    "    avg_claims=('nb_claim','mean'),\n",
    "    policy_count=('id','count')\n",
    ")\n",
    "claims_by_region.sort_values('total_claims', ascending=False).head()"
   ]
  },
  {
   "cell_type": "markdown",
   "id": "262b06e4",
   "metadata": {},
   "source": [
    "### Claim by car use"
   ]
  },
  {
   "cell_type": "code",
   "execution_count": null,
   "id": "70abb964",
   "metadata": {},
   "outputs": [
    {
     "data": {
      "text/html": [
       "<div>\n",
       "<style scoped>\n",
       "    .dataframe tbody tr th:only-of-type {\n",
       "        vertical-align: middle;\n",
       "    }\n",
       "\n",
       "    .dataframe tbody tr th {\n",
       "        vertical-align: top;\n",
       "    }\n",
       "\n",
       "    .dataframe thead th {\n",
       "        text-align: right;\n",
       "    }\n",
       "</style>\n",
       "<table border=\"1\" class=\"dataframe\">\n",
       "  <thead>\n",
       "    <tr style=\"text-align: right;\">\n",
       "      <th></th>\n",
       "      <th>total_claim_amount</th>\n",
       "      <th>avg_claim_amount</th>\n",
       "      <th>total_claims</th>\n",
       "      <th>avg_claims</th>\n",
       "      <th>policy_count</th>\n",
       "    </tr>\n",
       "    <tr>\n",
       "      <th>car_use</th>\n",
       "      <th></th>\n",
       "      <th></th>\n",
       "      <th></th>\n",
       "      <th></th>\n",
       "      <th></th>\n",
       "    </tr>\n",
       "  </thead>\n",
       "  <tbody>\n",
       "    <tr>\n",
       "      <th>0</th>\n",
       "      <td>258805.35</td>\n",
       "      <td>395.726835</td>\n",
       "      <td>56</td>\n",
       "      <td>0.085627</td>\n",
       "      <td>654</td>\n",
       "    </tr>\n",
       "    <tr>\n",
       "      <th>1</th>\n",
       "      <td>4153072.48</td>\n",
       "      <td>331.635589</td>\n",
       "      <td>712</td>\n",
       "      <td>0.056855</td>\n",
       "      <td>12523</td>\n",
       "    </tr>\n",
       "    <tr>\n",
       "      <th>2</th>\n",
       "      <td>14618.59</td>\n",
       "      <td>40.160962</td>\n",
       "      <td>5</td>\n",
       "      <td>0.013736</td>\n",
       "      <td>364</td>\n",
       "    </tr>\n",
       "    <tr>\n",
       "      <th>3</th>\n",
       "      <td>1489455.47</td>\n",
       "      <td>129.981278</td>\n",
       "      <td>405</td>\n",
       "      <td>0.035343</td>\n",
       "      <td>11459</td>\n",
       "    </tr>\n",
       "  </tbody>\n",
       "</table>\n",
       "</div>"
      ],
      "text/plain": [
       "         total_claim_amount  avg_claim_amount  total_claims  avg_claims  \\\n",
       "car_use                                                                   \n",
       "0                 258805.35        395.726835            56    0.085627   \n",
       "1                4153072.48        331.635589           712    0.056855   \n",
       "2                  14618.59         40.160962             5    0.013736   \n",
       "3                1489455.47        129.981278           405    0.035343   \n",
       "\n",
       "         policy_count  \n",
       "car_use                \n",
       "0                 654  \n",
       "1               12523  \n",
       "2                 364  \n",
       "3               11459  "
      ]
     },
     "execution_count": 16,
     "metadata": {},
     "output_type": "execute_result"
    }
   ],
   "source": [
    "claims_by_use = df.groupby('car_use').agg(\n",
    "    total_claim_amount=('amt_claim','sum'),\n",
    "    avg_claim_amount=('amt_claim','mean'),\n",
    "    total_claims=('nb_claim','sum'),\n",
    "    avg_claims=('nb_claim','mean'),\n",
    "    policy_count=('id','count')\n",
    ")\n",
    "claims_by_use"
   ]
  },
  {
   "cell_type": "markdown",
   "id": "4d8d5cc6",
   "metadata": {},
   "source": [
    "### Claim by age group"
   ]
  },
  {
   "cell_type": "code",
   "execution_count": 34,
   "id": "5d988517",
   "metadata": {},
   "outputs": [
    {
     "name": "stderr",
     "output_type": "stream",
     "text": [
      "/var/folders/lx/thnwywfs79x9xsl2bq8yrjy00000gn/T/ipykernel_3017/1751958123.py:2: FutureWarning: The default of observed=False is deprecated and will be changed to True in a future version of pandas. Pass observed=False to retain current behavior or observed=True to adopt the future default and silence this warning.\n",
      "  claims_by_age = df.groupby('agegroup').agg(\n"
     ]
    },
    {
     "data": {
      "text/html": [
       "<div>\n",
       "<style scoped>\n",
       "    .dataframe tbody tr th:only-of-type {\n",
       "        vertical-align: middle;\n",
       "    }\n",
       "\n",
       "    .dataframe tbody tr th {\n",
       "        vertical-align: top;\n",
       "    }\n",
       "\n",
       "    .dataframe thead th {\n",
       "        text-align: right;\n",
       "    }\n",
       "</style>\n",
       "<table border=\"1\" class=\"dataframe\">\n",
       "  <thead>\n",
       "    <tr style=\"text-align: right;\">\n",
       "      <th></th>\n",
       "      <th>total_claim_amount</th>\n",
       "      <th>avg_claim_amount</th>\n",
       "      <th>total_claims</th>\n",
       "      <th>avg_claims</th>\n",
       "      <th>policy_count</th>\n",
       "    </tr>\n",
       "    <tr>\n",
       "      <th>agegroup</th>\n",
       "      <th></th>\n",
       "      <th></th>\n",
       "      <th></th>\n",
       "      <th></th>\n",
       "      <th></th>\n",
       "    </tr>\n",
       "  </thead>\n",
       "  <tbody>\n",
       "    <tr>\n",
       "      <th>&lt;25</th>\n",
       "      <td>267691.67</td>\n",
       "      <td>395.993595</td>\n",
       "      <td>46</td>\n",
       "      <td>0.068047</td>\n",
       "      <td>676</td>\n",
       "    </tr>\n",
       "    <tr>\n",
       "      <th>25-34</th>\n",
       "      <td>1547116.47</td>\n",
       "      <td>420.755091</td>\n",
       "      <td>221</td>\n",
       "      <td>0.060103</td>\n",
       "      <td>3677</td>\n",
       "    </tr>\n",
       "    <tr>\n",
       "      <th>35-44</th>\n",
       "      <td>1056394.79</td>\n",
       "      <td>246.016486</td>\n",
       "      <td>225</td>\n",
       "      <td>0.052399</td>\n",
       "      <td>4294</td>\n",
       "    </tr>\n",
       "    <tr>\n",
       "      <th>45-54</th>\n",
       "      <td>1665128.99</td>\n",
       "      <td>307.503045</td>\n",
       "      <td>309</td>\n",
       "      <td>0.057064</td>\n",
       "      <td>5415</td>\n",
       "    </tr>\n",
       "    <tr>\n",
       "      <th>55-64</th>\n",
       "      <td>884666.29</td>\n",
       "      <td>169.346533</td>\n",
       "      <td>238</td>\n",
       "      <td>0.045559</td>\n",
       "      <td>5224</td>\n",
       "    </tr>\n",
       "    <tr>\n",
       "      <th>65+</th>\n",
       "      <td>494953.68</td>\n",
       "      <td>86.621225</td>\n",
       "      <td>139</td>\n",
       "      <td>0.024326</td>\n",
       "      <td>5714</td>\n",
       "    </tr>\n",
       "  </tbody>\n",
       "</table>\n",
       "</div>"
      ],
      "text/plain": [
       "          total_claim_amount  avg_claim_amount  total_claims  avg_claims  \\\n",
       "agegroup                                                                   \n",
       "<25                267691.67        395.993595            46    0.068047   \n",
       "25-34             1547116.47        420.755091           221    0.060103   \n",
       "35-44             1056394.79        246.016486           225    0.052399   \n",
       "45-54             1665128.99        307.503045           309    0.057064   \n",
       "55-64              884666.29        169.346533           238    0.045559   \n",
       "65+                494953.68         86.621225           139    0.024326   \n",
       "\n",
       "          policy_count  \n",
       "agegroup                \n",
       "<25                676  \n",
       "25-34             3677  \n",
       "35-44             4294  \n",
       "45-54             5415  \n",
       "55-64             5224  \n",
       "65+               5714  "
      ]
     },
     "execution_count": 34,
     "metadata": {},
     "output_type": "execute_result"
    }
   ],
   "source": [
    " # Total and average claim amounts and counts by age group\n",
    "claims_by_age = df.groupby('agegroup').agg(\n",
    "    total_claim_amount=('amt_claim','sum'),\n",
    "    avg_claim_amount=('amt_claim','mean'),\n",
    "    total_claims=('nb_claim','sum'),\n",
    "    avg_claims=('nb_claim','mean'),\n",
    "    policy_count=('id','count')\n",
    ")\n",
    "claims_by_age"
   ]
  },
  {
   "cell_type": "markdown",
   "id": "2a9940d0",
   "metadata": {},
   "source": [
    "## 2. Driving Behavior Segmentation"
   ]
  },
  {
   "cell_type": "markdown",
   "id": "e79894de",
   "metadata": {},
   "source": [
    "### Claim by age and hard events"
   ]
  },
  {
   "cell_type": "code",
   "execution_count": null,
   "id": "44e864c2",
   "metadata": {},
   "outputs": [
    {
     "name": "stderr",
     "output_type": "stream",
     "text": [
      "/var/folders/lx/thnwywfs79x9xsl2bq8yrjy00000gn/T/ipykernel_3017/263073144.py:5: FutureWarning: The default of observed=False is deprecated and will be changed to True in a future version of pandas. Pass observed=False to retain current behavior or observed=True to adopt the future default and silence this warning.\n",
      "  behavior_by_age = df.groupby('agegroup')[['hard_brakes','hard_accelerations']].mean()\n"
     ]
    },
    {
     "data": {
      "text/html": [
       "<div>\n",
       "<style scoped>\n",
       "    .dataframe tbody tr th:only-of-type {\n",
       "        vertical-align: middle;\n",
       "    }\n",
       "\n",
       "    .dataframe tbody tr th {\n",
       "        vertical-align: top;\n",
       "    }\n",
       "\n",
       "    .dataframe thead th {\n",
       "        text-align: right;\n",
       "    }\n",
       "</style>\n",
       "<table border=\"1\" class=\"dataframe\">\n",
       "  <thead>\n",
       "    <tr style=\"text-align: right;\">\n",
       "      <th></th>\n",
       "      <th>hard_brakes</th>\n",
       "      <th>hard_accelerations</th>\n",
       "    </tr>\n",
       "    <tr>\n",
       "      <th>agegroup</th>\n",
       "      <th></th>\n",
       "      <th></th>\n",
       "    </tr>\n",
       "  </thead>\n",
       "  <tbody>\n",
       "    <tr>\n",
       "      <th>&lt;25</th>\n",
       "      <td>1.251479</td>\n",
       "      <td>1.130178</td>\n",
       "    </tr>\n",
       "    <tr>\n",
       "      <th>25-34</th>\n",
       "      <td>1.119663</td>\n",
       "      <td>0.994289</td>\n",
       "    </tr>\n",
       "    <tr>\n",
       "      <th>35-44</th>\n",
       "      <td>0.561015</td>\n",
       "      <td>0.573125</td>\n",
       "    </tr>\n",
       "    <tr>\n",
       "      <th>45-54</th>\n",
       "      <td>0.626223</td>\n",
       "      <td>0.577655</td>\n",
       "    </tr>\n",
       "    <tr>\n",
       "      <th>55-64</th>\n",
       "      <td>0.387825</td>\n",
       "      <td>0.289051</td>\n",
       "    </tr>\n",
       "    <tr>\n",
       "      <th>65+</th>\n",
       "      <td>0.702660</td>\n",
       "      <td>0.608155</td>\n",
       "    </tr>\n",
       "  </tbody>\n",
       "</table>\n",
       "</div>"
      ],
      "text/plain": [
       "          hard_brakes  hard_accelerations\n",
       "agegroup                                 \n",
       "<25          1.251479            1.130178\n",
       "25-34        1.119663            0.994289\n",
       "35-44        0.561015            0.573125\n",
       "45-54        0.626223            0.577655\n",
       "55-64        0.387825            0.289051\n",
       "65+          0.702660            0.608155"
      ]
     },
     "execution_count": 18,
     "metadata": {},
     "output_type": "execute_result"
    }
   ],
   "source": [
    "# Define hard events as sums of high-deceleration/acceleration counts\n",
    "df['hard_brakes'] = df['brake_06ms2_1000km'] + df['brake_07ms2_1000km']\n",
    "df['hard_accelerations'] = df['accel_06ms2_1000km'] + df['accel_07ms2_1000km']\n",
    "\n",
    "# Average hard events by driver age group\n",
    "behavior_by_age = df.groupby('agegroup')[['hard_brakes','hard_accelerations']].mean()\n",
    "behavior_by_age\n"
   ]
  },
  {
   "cell_type": "markdown",
   "id": "6f9ecab3",
   "metadata": {},
   "source": [
    "### Average hard events by car age group"
   ]
  },
  {
   "cell_type": "code",
   "execution_count": null,
   "id": "40d1afa3",
   "metadata": {},
   "outputs": [
    {
     "name": "stderr",
     "output_type": "stream",
     "text": [
      "/var/folders/lx/thnwywfs79x9xsl2bq8yrjy00000gn/T/ipykernel_3017/1978256443.py:5: FutureWarning: The default of observed=False is deprecated and will be changed to True in a future version of pandas. Pass observed=False to retain current behavior or observed=True to adopt the future default and silence this warning.\n",
      "  behavior_by_car = df.groupby('CarAgeGroup')[['hard_brakes','hard_accelerations']].mean()\n"
     ]
    },
    {
     "data": {
      "text/html": [
       "<div>\n",
       "<style scoped>\n",
       "    .dataframe tbody tr th:only-of-type {\n",
       "        vertical-align: middle;\n",
       "    }\n",
       "\n",
       "    .dataframe tbody tr th {\n",
       "        vertical-align: top;\n",
       "    }\n",
       "\n",
       "    .dataframe thead th {\n",
       "        text-align: right;\n",
       "    }\n",
       "</style>\n",
       "<table border=\"1\" class=\"dataframe\">\n",
       "  <thead>\n",
       "    <tr style=\"text-align: right;\">\n",
       "      <th></th>\n",
       "      <th>hard_brakes</th>\n",
       "      <th>hard_accelerations</th>\n",
       "    </tr>\n",
       "    <tr>\n",
       "      <th>CarAgeGroup</th>\n",
       "      <th></th>\n",
       "      <th></th>\n",
       "    </tr>\n",
       "  </thead>\n",
       "  <tbody>\n",
       "    <tr>\n",
       "      <th>0-5</th>\n",
       "      <td>0.323802</td>\n",
       "      <td>0.254836</td>\n",
       "    </tr>\n",
       "    <tr>\n",
       "      <th>6-10</th>\n",
       "      <td>0.835909</td>\n",
       "      <td>0.784240</td>\n",
       "    </tr>\n",
       "    <tr>\n",
       "      <th>11-15</th>\n",
       "      <td>1.657287</td>\n",
       "      <td>1.512488</td>\n",
       "    </tr>\n",
       "    <tr>\n",
       "      <th>16-20</th>\n",
       "      <td>0.857651</td>\n",
       "      <td>0.814947</td>\n",
       "    </tr>\n",
       "  </tbody>\n",
       "</table>\n",
       "</div>"
      ],
      "text/plain": [
       "             hard_brakes  hard_accelerations\n",
       "CarAgeGroup                                 \n",
       "0-5             0.323802            0.254836\n",
       "6-10            0.835909            0.784240\n",
       "11-15           1.657287            1.512488\n",
       "16-20           0.857651            0.814947"
      ]
     },
     "execution_count": 20,
     "metadata": {},
     "output_type": "execute_result"
    }
   ],
   "source": [
    "bins_car_age = [0,6,11,16,21]\n",
    "labels_car_age = ['0-5','6-10','11-15','16-20']\n",
    "df['CarAgeGroup'] = pd.cut(df['car_age'], bins=bins_car_age, labels=labels_car_age, right=False)\n",
    "behavior_by_car = df.groupby('CarAgeGroup')[['hard_brakes','hard_accelerations']].mean()\n",
    "behavior_by_car"
   ]
  },
  {
   "cell_type": "markdown",
   "id": "9a976b2d",
   "metadata": {},
   "source": [
    "## 3. Risk Profiling"
   ]
  },
  {
   "cell_type": "markdown",
   "id": "698258b0",
   "metadata": {},
   "source": [
    "- Create a risk score for each driver combining number of claims, aggressive maneuvers, and credit score (higher score means lower risk).\n",
    "- Classify drivers into High vs Low risk based on the median score.\n",
    "- Summarize counts of high/low risk drivers by marital status, sex, and region.\n"
   ]
  },
  {
   "cell_type": "code",
   "execution_count": null,
   "id": "b9ed836e",
   "metadata": {},
   "outputs": [
    {
     "name": "stdout",
     "output_type": "stream",
     "text": [
      "RiskCategory    High   Low\n",
      "insured_status            \n",
      "0               4533  2986\n",
      "1               8087  9394\n",
      "RiskCategory  High   Low\n",
      "insured_sex             \n",
      "0             6785  6666\n",
      "1             5835  5714\n",
      "RiskCategory      High  Low\n",
      "insured_regionid           \n",
      "11                   3   10\n",
      "12                 150  167\n",
      "13                 162  173\n",
      "14                 164  176\n",
      "15                 250  216\n"
     ]
    }
   ],
   "source": [
    "\n",
    "import numpy as np\n",
    "# Simple risk score: more claims or harsh events increase risk, higher credit reduces risk\n",
    "df['RiskScore'] = df['nb_claim'] * 5 + (df['aggressive'])/10 + (900 - df['insured_creditscore'])/50\n",
    "threshold = df['RiskScore'].median()\n",
    "df['RiskCategory'] = np.where(df['RiskScore'] >= threshold, 'High', 'Low')\n",
    "\n",
    "# Distribution of risk categories\n",
    "risk_by_status = df.groupby(['insured_status','RiskCategory']).size().unstack(fill_value=0)\n",
    "risk_by_sex = df.groupby(['insured_sex','RiskCategory']).size().unstack(fill_value=0)\n",
    "risk_by_region = df.groupby(['insured_regionid','RiskCategory']).size().unstack(fill_value=0)\n",
    "\n",
    "print(risk_by_status)\n",
    "print(risk_by_sex)\n",
    "print(risk_by_region.head())"
   ]
  },
  {
   "cell_type": "markdown",
   "id": "4121755b",
   "metadata": {},
   "source": [
    "## 4. Usage Pattern Clustering (NOT IMPLEMENTED)"
   ]
  },
  {
   "cell_type": "markdown",
   "id": "b3d05200",
   "metadata": {},
   "source": [
    "- Segment drivers based on average driving days per week."
   ]
  },
  {
   "cell_type": "code",
   "execution_count": 32,
   "id": "7fb63aef",
   "metadata": {},
   "outputs": [
    {
     "data": {
      "text/plain": [
       "UsageSegment\n",
       "Low (<=2)       2\n",
       "Medium (2-4)    2\n",
       "High (4-7))     5\n",
       "Name: count, dtype: int64"
      ]
     },
     "execution_count": 32,
     "metadata": {},
     "output_type": "execute_result"
    }
   ],
   "source": [
    "# Segment drivers by average driving days/week\n",
    "bins_days = [0,2,4,7]\n",
    "labels_days = ['Low (<=2)','Medium (2-4)','High (4-7))']\n",
    "\n",
    "df['UsageSegment'] = pd.cut(df['drive_avgdays_week'], bins=bins_days, labels=labels_days, right=False)\n",
    "usage_distribution = df['UsageSegment'].value_counts().sort_index()\n",
    "usage_distribution"
   ]
  }
 ],
 "metadata": {
  "kernelspec": {
   "display_name": "ml-pipeline-insurance-customer",
   "language": "python",
   "name": "python3"
  },
  "language_info": {
   "codemirror_mode": {
    "name": "ipython",
    "version": 3
   },
   "file_extension": ".py",
   "mimetype": "text/x-python",
   "name": "python",
   "nbconvert_exporter": "python",
   "pygments_lexer": "ipython3",
   "version": "3.12.10"
  }
 },
 "nbformat": 4,
 "nbformat_minor": 5
}
